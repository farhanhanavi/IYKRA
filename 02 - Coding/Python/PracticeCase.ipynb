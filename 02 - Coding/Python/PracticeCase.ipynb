{
 "cells": [
  {
   "cell_type": "code",
   "execution_count": 1,
   "metadata": {},
   "outputs": [
    {
     "name": "stdout",
     "output_type": "stream",
     "text": [
      "Nama: Farhan Hanavi\n",
      "Kota: Jakarta\n",
      "DoB: 7 Juli\n",
      "My name is Farhan Hanavi ,I live in Jakarta  I was born in 7 Juli\n"
     ]
    }
   ],
   "source": [
    "Nama = input('Nama: ')\n",
    "Kota = input('Kota: ')\n",
    "DoB = input('DoB: ')\n",
    "print ('My name is',Nama, ',I live in',Kota,' I was born in',DoB)"
   ]
  },
  {
   "cell_type": "code",
   "execution_count": 3,
   "metadata": {},
   "outputs": [],
   "source": [
    "def Introduction (Nama, Kota, DoB):\n",
    "        return print('My name is {}, I live in {}, I was born in {}'.format(Nama,Kota,DoB))\n",
    "    \n",
    "\n",
    "\n",
    "\n",
    "\n"
   ]
  },
  {
   "cell_type": "code",
   "execution_count": 5,
   "metadata": {},
   "outputs": [
    {
     "name": "stdout",
     "output_type": "stream",
     "text": [
      "My name is Nama, I live in Farhan, I was born in 7 July\n"
     ]
    }
   ],
   "source": [
    "Introduction('Nama','Farhan','7 July')"
   ]
  },
  {
   "cell_type": "code",
   "execution_count": null,
   "metadata": {},
   "outputs": [],
   "source": []
  }
 ],
 "metadata": {
  "kernelspec": {
   "display_name": "Python 3",
   "language": "python",
   "name": "python3"
  },
  "language_info": {
   "codemirror_mode": {
    "name": "ipython",
    "version": 3
   },
   "file_extension": ".py",
   "mimetype": "text/x-python",
   "name": "python",
   "nbconvert_exporter": "python",
   "pygments_lexer": "ipython3",
   "version": "3.7.7"
  }
 },
 "nbformat": 4,
 "nbformat_minor": 4
}
