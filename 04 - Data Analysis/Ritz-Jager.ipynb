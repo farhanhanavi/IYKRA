{
 "cells": [
  {
   "cell_type": "code",
   "execution_count": 1,
   "metadata": {},
   "outputs": [],
   "source": [
    "import pandas as pd\n",
    "import matplotlib.pyplot as plt\n",
    "import numpy as np\n",
    "from statistics import mode"
   ]
  },
  {
   "cell_type": "code",
   "execution_count": 49,
   "metadata": {},
   "outputs": [],
   "source": [
    "df = pd.read_csv('/users/farhan/downloads/Ritz_Jager_Data.csv')\n",
    "dictionary = pd.read_excel('/users/farhan/downloads/data_dictionary_Ritz_Jager.xlsx')"
   ]
  },
  {
   "cell_type": "code",
   "execution_count": 50,
   "metadata": {},
   "outputs": [
    {
     "data": {
      "text/html": [
       "<div>\n",
       "<style scoped>\n",
       "    .dataframe tbody tr th:only-of-type {\n",
       "        vertical-align: middle;\n",
       "    }\n",
       "\n",
       "    .dataframe tbody tr th {\n",
       "        vertical-align: top;\n",
       "    }\n",
       "\n",
       "    .dataframe thead th {\n",
       "        text-align: right;\n",
       "    }\n",
       "</style>\n",
       "<table border=\"1\" class=\"dataframe\">\n",
       "  <thead>\n",
       "    <tr style=\"text-align: right;\">\n",
       "      <th></th>\n",
       "      <th>hotel_type</th>\n",
       "      <th>is_canceled</th>\n",
       "      <th>lead_time</th>\n",
       "      <th>arrival_date_year</th>\n",
       "      <th>arrival_date_month</th>\n",
       "      <th>arrival_date_week_number</th>\n",
       "      <th>arrival_date_day_of_month</th>\n",
       "      <th>stays_in_weekend_nights</th>\n",
       "      <th>stays_in_week_nights</th>\n",
       "      <th>adults</th>\n",
       "      <th>children</th>\n",
       "      <th>babies</th>\n",
       "      <th>meal_type</th>\n",
       "      <th>country_origin</th>\n",
       "      <th>market_segment</th>\n",
       "      <th>distribution_channel</th>\n",
       "      <th>is_repeated_guest</th>\n",
       "      <th>previous_cancellations</th>\n",
       "      <th>previous_bookings_not_canceled</th>\n",
       "      <th>reserved_room_type</th>\n",
       "      <th>assigned_room_type</th>\n",
       "      <th>booking_changes</th>\n",
       "      <th>deposit_type</th>\n",
       "      <th>agent</th>\n",
       "      <th>company</th>\n",
       "      <th>days_in_waiting_list</th>\n",
       "      <th>customer_type</th>\n",
       "      <th>adr</th>\n",
       "      <th>required_car_parking_spaces</th>\n",
       "      <th>total_of_special_requests</th>\n",
       "      <th>reservation_status</th>\n",
       "      <th>reservation_status_date</th>\n",
       "    </tr>\n",
       "  </thead>\n",
       "  <tbody>\n",
       "    <tr>\n",
       "      <th>0</th>\n",
       "      <td>Resort Hotel</td>\n",
       "      <td>0</td>\n",
       "      <td>342</td>\n",
       "      <td>2015</td>\n",
       "      <td>July</td>\n",
       "      <td>27</td>\n",
       "      <td>1</td>\n",
       "      <td>0</td>\n",
       "      <td>0</td>\n",
       "      <td>2</td>\n",
       "      <td>0.0</td>\n",
       "      <td>0</td>\n",
       "      <td>BB</td>\n",
       "      <td>PRT</td>\n",
       "      <td>Direct</td>\n",
       "      <td>Direct</td>\n",
       "      <td>0</td>\n",
       "      <td>0</td>\n",
       "      <td>0</td>\n",
       "      <td>C</td>\n",
       "      <td>C</td>\n",
       "      <td>3</td>\n",
       "      <td>No Deposit</td>\n",
       "      <td>NaN</td>\n",
       "      <td>NaN</td>\n",
       "      <td>0</td>\n",
       "      <td>Transient</td>\n",
       "      <td>0.0</td>\n",
       "      <td>0</td>\n",
       "      <td>0</td>\n",
       "      <td>Check-Out</td>\n",
       "      <td>1/7/2015</td>\n",
       "    </tr>\n",
       "    <tr>\n",
       "      <th>1</th>\n",
       "      <td>Resort Hotel</td>\n",
       "      <td>0</td>\n",
       "      <td>737</td>\n",
       "      <td>2015</td>\n",
       "      <td>July</td>\n",
       "      <td>27</td>\n",
       "      <td>1</td>\n",
       "      <td>0</td>\n",
       "      <td>0</td>\n",
       "      <td>2</td>\n",
       "      <td>0.0</td>\n",
       "      <td>0</td>\n",
       "      <td>BB</td>\n",
       "      <td>PRT</td>\n",
       "      <td>Direct</td>\n",
       "      <td>Direct</td>\n",
       "      <td>0</td>\n",
       "      <td>0</td>\n",
       "      <td>0</td>\n",
       "      <td>C</td>\n",
       "      <td>C</td>\n",
       "      <td>4</td>\n",
       "      <td>No Deposit</td>\n",
       "      <td>NaN</td>\n",
       "      <td>NaN</td>\n",
       "      <td>0</td>\n",
       "      <td>Transient</td>\n",
       "      <td>0.0</td>\n",
       "      <td>0</td>\n",
       "      <td>0</td>\n",
       "      <td>Check-Out</td>\n",
       "      <td>1/7/2015</td>\n",
       "    </tr>\n",
       "    <tr>\n",
       "      <th>2</th>\n",
       "      <td>Resort Hotel</td>\n",
       "      <td>0</td>\n",
       "      <td>7</td>\n",
       "      <td>2015</td>\n",
       "      <td>July</td>\n",
       "      <td>27</td>\n",
       "      <td>1</td>\n",
       "      <td>0</td>\n",
       "      <td>1</td>\n",
       "      <td>1</td>\n",
       "      <td>0.0</td>\n",
       "      <td>0</td>\n",
       "      <td>BB</td>\n",
       "      <td>GBR</td>\n",
       "      <td>Direct</td>\n",
       "      <td>Direct</td>\n",
       "      <td>0</td>\n",
       "      <td>0</td>\n",
       "      <td>0</td>\n",
       "      <td>A</td>\n",
       "      <td>C</td>\n",
       "      <td>0</td>\n",
       "      <td>No Deposit</td>\n",
       "      <td>NaN</td>\n",
       "      <td>NaN</td>\n",
       "      <td>0</td>\n",
       "      <td>Transient</td>\n",
       "      <td>75.0</td>\n",
       "      <td>0</td>\n",
       "      <td>0</td>\n",
       "      <td>Check-Out</td>\n",
       "      <td>2/7/2015</td>\n",
       "    </tr>\n",
       "    <tr>\n",
       "      <th>3</th>\n",
       "      <td>Resort Hotel</td>\n",
       "      <td>0</td>\n",
       "      <td>13</td>\n",
       "      <td>2015</td>\n",
       "      <td>July</td>\n",
       "      <td>27</td>\n",
       "      <td>1</td>\n",
       "      <td>0</td>\n",
       "      <td>1</td>\n",
       "      <td>1</td>\n",
       "      <td>0.0</td>\n",
       "      <td>0</td>\n",
       "      <td>BB</td>\n",
       "      <td>GBR</td>\n",
       "      <td>Corporate</td>\n",
       "      <td>Corporate</td>\n",
       "      <td>0</td>\n",
       "      <td>0</td>\n",
       "      <td>0</td>\n",
       "      <td>A</td>\n",
       "      <td>A</td>\n",
       "      <td>0</td>\n",
       "      <td>No Deposit</td>\n",
       "      <td>304.0</td>\n",
       "      <td>NaN</td>\n",
       "      <td>0</td>\n",
       "      <td>Transient</td>\n",
       "      <td>75.0</td>\n",
       "      <td>0</td>\n",
       "      <td>0</td>\n",
       "      <td>Check-Out</td>\n",
       "      <td>2/7/2015</td>\n",
       "    </tr>\n",
       "    <tr>\n",
       "      <th>4</th>\n",
       "      <td>Resort Hotel</td>\n",
       "      <td>0</td>\n",
       "      <td>14</td>\n",
       "      <td>2015</td>\n",
       "      <td>July</td>\n",
       "      <td>27</td>\n",
       "      <td>1</td>\n",
       "      <td>0</td>\n",
       "      <td>2</td>\n",
       "      <td>2</td>\n",
       "      <td>0.0</td>\n",
       "      <td>0</td>\n",
       "      <td>BB</td>\n",
       "      <td>GBR</td>\n",
       "      <td>Online TA</td>\n",
       "      <td>TA/TO</td>\n",
       "      <td>0</td>\n",
       "      <td>0</td>\n",
       "      <td>0</td>\n",
       "      <td>A</td>\n",
       "      <td>A</td>\n",
       "      <td>0</td>\n",
       "      <td>No Deposit</td>\n",
       "      <td>240.0</td>\n",
       "      <td>NaN</td>\n",
       "      <td>0</td>\n",
       "      <td>Transient</td>\n",
       "      <td>98.0</td>\n",
       "      <td>0</td>\n",
       "      <td>1</td>\n",
       "      <td>Check-Out</td>\n",
       "      <td>3/7/2015</td>\n",
       "    </tr>\n",
       "  </tbody>\n",
       "</table>\n",
       "</div>"
      ],
      "text/plain": [
       "     hotel_type  is_canceled  lead_time  arrival_date_year arrival_date_month  \\\n",
       "0  Resort Hotel            0        342               2015               July   \n",
       "1  Resort Hotel            0        737               2015               July   \n",
       "2  Resort Hotel            0          7               2015               July   \n",
       "3  Resort Hotel            0         13               2015               July   \n",
       "4  Resort Hotel            0         14               2015               July   \n",
       "\n",
       "   arrival_date_week_number  arrival_date_day_of_month  \\\n",
       "0                        27                          1   \n",
       "1                        27                          1   \n",
       "2                        27                          1   \n",
       "3                        27                          1   \n",
       "4                        27                          1   \n",
       "\n",
       "   stays_in_weekend_nights  stays_in_week_nights  adults  children  babies  \\\n",
       "0                        0                     0       2       0.0       0   \n",
       "1                        0                     0       2       0.0       0   \n",
       "2                        0                     1       1       0.0       0   \n",
       "3                        0                     1       1       0.0       0   \n",
       "4                        0                     2       2       0.0       0   \n",
       "\n",
       "  meal_type country_origin market_segment distribution_channel  \\\n",
       "0        BB            PRT         Direct               Direct   \n",
       "1        BB            PRT         Direct               Direct   \n",
       "2        BB            GBR         Direct               Direct   \n",
       "3        BB            GBR      Corporate            Corporate   \n",
       "4        BB            GBR      Online TA                TA/TO   \n",
       "\n",
       "   is_repeated_guest  previous_cancellations  previous_bookings_not_canceled  \\\n",
       "0                  0                       0                               0   \n",
       "1                  0                       0                               0   \n",
       "2                  0                       0                               0   \n",
       "3                  0                       0                               0   \n",
       "4                  0                       0                               0   \n",
       "\n",
       "  reserved_room_type assigned_room_type  booking_changes deposit_type  agent  \\\n",
       "0                  C                  C                3   No Deposit    NaN   \n",
       "1                  C                  C                4   No Deposit    NaN   \n",
       "2                  A                  C                0   No Deposit    NaN   \n",
       "3                  A                  A                0   No Deposit  304.0   \n",
       "4                  A                  A                0   No Deposit  240.0   \n",
       "\n",
       "   company  days_in_waiting_list customer_type   adr  \\\n",
       "0      NaN                     0     Transient   0.0   \n",
       "1      NaN                     0     Transient   0.0   \n",
       "2      NaN                     0     Transient  75.0   \n",
       "3      NaN                     0     Transient  75.0   \n",
       "4      NaN                     0     Transient  98.0   \n",
       "\n",
       "   required_car_parking_spaces  total_of_special_requests reservation_status  \\\n",
       "0                            0                          0          Check-Out   \n",
       "1                            0                          0          Check-Out   \n",
       "2                            0                          0          Check-Out   \n",
       "3                            0                          0          Check-Out   \n",
       "4                            0                          1          Check-Out   \n",
       "\n",
       "  reservation_status_date  \n",
       "0                1/7/2015  \n",
       "1                1/7/2015  \n",
       "2                2/7/2015  \n",
       "3                2/7/2015  \n",
       "4                3/7/2015  "
      ]
     },
     "execution_count": 50,
     "metadata": {},
     "output_type": "execute_result"
    }
   ],
   "source": [
    "pd.set_option('display.max_column',32)\n",
    "pd.set_option('display.max_row', 50)\n",
    "pd.options.display.max_colwidth = 500\n",
    "df.head()"
   ]
  },
  {
   "cell_type": "code",
   "execution_count": 51,
   "metadata": {},
   "outputs": [
    {
     "data": {
      "text/html": [
       "<div>\n",
       "<style scoped>\n",
       "    .dataframe tbody tr th:only-of-type {\n",
       "        vertical-align: middle;\n",
       "    }\n",
       "\n",
       "    .dataframe tbody tr th {\n",
       "        vertical-align: top;\n",
       "    }\n",
       "\n",
       "    .dataframe thead th {\n",
       "        text-align: right;\n",
       "    }\n",
       "</style>\n",
       "<table border=\"1\" class=\"dataframe\">\n",
       "  <thead>\n",
       "    <tr style=\"text-align: right;\">\n",
       "      <th></th>\n",
       "      <th>Definition</th>\n",
       "    </tr>\n",
       "    <tr>\n",
       "      <th>Column_Name</th>\n",
       "      <th></th>\n",
       "    </tr>\n",
       "  </thead>\n",
       "  <tbody>\n",
       "    <tr>\n",
       "      <th>adr</th>\n",
       "      <td>Average Daily Rate as defined by dividing the sum of all lodging transactions by the total number of staying nights</td>\n",
       "    </tr>\n",
       "    <tr>\n",
       "      <th>adults</th>\n",
       "      <td>Number of adults</td>\n",
       "    </tr>\n",
       "    <tr>\n",
       "      <th>agent_ID</th>\n",
       "      <td>The ID of the travel agency that made the booking</td>\n",
       "    </tr>\n",
       "    <tr>\n",
       "      <th>arrival_date_day_of_month</th>\n",
       "      <td>Day of arrival date</td>\n",
       "    </tr>\n",
       "    <tr>\n",
       "      <th>arrival_date_month</th>\n",
       "      <td>The month of arrival date</td>\n",
       "    </tr>\n",
       "    <tr>\n",
       "      <th>arrival_date_week_number</th>\n",
       "      <td>Week number of year for arrival date</td>\n",
       "    </tr>\n",
       "    <tr>\n",
       "      <th>arrival_date_year</th>\n",
       "      <td>Year of arrival date</td>\n",
       "    </tr>\n",
       "    <tr>\n",
       "      <th>assigned_room_type</th>\n",
       "      <td>Code for the type of room assigned to the booking. Sometimes the assigned room type differs from the reserved room type due to hotel operation reasons (e.g. overbooking) or by customer request. Code is presented instead of designation for anonymity reasons.</td>\n",
       "    </tr>\n",
       "    <tr>\n",
       "      <th>babies</th>\n",
       "      <td>Number of babies</td>\n",
       "    </tr>\n",
       "    <tr>\n",
       "      <th>booking_changes</th>\n",
       "      <td>Number of changes/amendments made to the booking from the moment the booking was entered on the PMS until the moment of check-in or cancellation</td>\n",
       "    </tr>\n",
       "    <tr>\n",
       "      <th>children</th>\n",
       "      <td>Number of children</td>\n",
       "    </tr>\n",
       "    <tr>\n",
       "      <th>company_ID</th>\n",
       "      <td>ID of the company/entity that made the booking or responsible for paying the booking. ID is presented instead of designation for anonymity reasons</td>\n",
       "    </tr>\n",
       "    <tr>\n",
       "      <th>country_origin</th>\n",
       "      <td>Country of origin. Categories are represented in the ISO 3155–3:2013 format</td>\n",
       "    </tr>\n",
       "    <tr>\n",
       "      <th>customer_type</th>\n",
       "      <td>Type of booking, assuming one of four categories: Contract - when the booking has an allotment or other type of contract associated to it; Group – when the booking is associated to a group; Transient – when the booking is not part of a group or contract, and is not associated to other transient booking; Transient-party – when the booking is transient, but is associated to at least other transient booking</td>\n",
       "    </tr>\n",
       "    <tr>\n",
       "      <th>days_in_waiting_list</th>\n",
       "      <td>Number of days the booking was in the waiting list before it was confirmed to the customer</td>\n",
       "    </tr>\n",
       "    <tr>\n",
       "      <th>deposit_type</th>\n",
       "      <td>Indication on if the customer made a deposit to guarantee the booking. This variable can assume three categories: No Deposit – no deposit was made; Non Refund – a deposit was made in the value of the total stay cost; Refundable – a deposit was made with a value under the total cost of stay.</td>\n",
       "    </tr>\n",
       "    <tr>\n",
       "      <th>distribution_channel</th>\n",
       "      <td>Booking distribution channel. The term “TA” means “Travel Agents” and “TO” means “Tour Operators”</td>\n",
       "    </tr>\n",
       "    <tr>\n",
       "      <th>hotel_type</th>\n",
       "      <td>Types of the hotel, Resort Hotel, or City Hotel</td>\n",
       "    </tr>\n",
       "    <tr>\n",
       "      <th>is_canceled</th>\n",
       "      <td>The value indicating if the booking was cancelled (1) or not (0)</td>\n",
       "    </tr>\n",
       "    <tr>\n",
       "      <th>is_repeated_guest</th>\n",
       "      <td>The value indicating if the booking name was from a repeated guest (1) or not (0)</td>\n",
       "    </tr>\n",
       "    <tr>\n",
       "      <th>lead_time</th>\n",
       "      <td>Number of days that elapsed between the entering date of the booking into the PMS and the arrival date</td>\n",
       "    </tr>\n",
       "    <tr>\n",
       "      <th>market_segment</th>\n",
       "      <td>Market segment designation. In categories, the term “TA” means “Travel Agents” and “TO” means “Tour Operators”</td>\n",
       "    </tr>\n",
       "    <tr>\n",
       "      <th>meal_type</th>\n",
       "      <td>Type of meal booked. Categories are presented in standard hospitality meal packages: Undefined/SC – no meal package; BB – Bed &amp; Breakfast; HB – Half board (breakfast and one other meal – usually dinner); FB – Full board (breakfast, lunch and dinner)</td>\n",
       "    </tr>\n",
       "    <tr>\n",
       "      <th>previous_bookings_not_canceled</th>\n",
       "      <td>Number of previous bookings not cancelled by the customer prior to the current booking</td>\n",
       "    </tr>\n",
       "    <tr>\n",
       "      <th>previous_cancellations</th>\n",
       "      <td>Number of previous bookings that were cancelled by the customer prior to the current booking</td>\n",
       "    </tr>\n",
       "    <tr>\n",
       "      <th>required_car_parking_spaces</th>\n",
       "      <td>Number of car parking spaces required by the customer</td>\n",
       "    </tr>\n",
       "    <tr>\n",
       "      <th>reservation_status</th>\n",
       "      <td>Reservation last status, assuming one of three categories: Canceled – booking was canceled by the customer; Check-Out – customer has checked in but already departed; No-Show – customer did not check-in and did inform the hotel of the reason why</td>\n",
       "    </tr>\n",
       "    <tr>\n",
       "      <th>reservation_status_date</th>\n",
       "      <td>Date at which the last status was set. This variable can be used in conjunction with the ReservationStatus to understand when was the booking canceled or when did the customer checked-out of the hotel</td>\n",
       "    </tr>\n",
       "    <tr>\n",
       "      <th>reserved_room_type</th>\n",
       "      <td>Code of room type reserved. Code is presented instead of designation for anonymity reasons.</td>\n",
       "    </tr>\n",
       "    <tr>\n",
       "      <th>stays_in_week_nights</th>\n",
       "      <td>Number of weeknights (Monday to Friday) the guest stayed or booked to stay at the hotel</td>\n",
       "    </tr>\n",
       "    <tr>\n",
       "      <th>stays_in_weekend_nights</th>\n",
       "      <td>Number of weekend nights (Saturday or Sunday) the guest stayed or booked to stay at the hotel</td>\n",
       "    </tr>\n",
       "    <tr>\n",
       "      <th>total_of_special_requests</th>\n",
       "      <td>Number of special requests made by the customer (e.g. twin bed or high floor)</td>\n",
       "    </tr>\n",
       "  </tbody>\n",
       "</table>\n",
       "</div>"
      ],
      "text/plain": [
       "                                                                                                                                                                                                                                                                                                                                                                                                                                             Definition\n",
       "Column_Name                                                                                                                                                                                                                                                                                                                                                                                                                                            \n",
       "adr                                                                                                                                                                                                                                                                                                                                 Average Daily Rate as defined by dividing the sum of all lodging transactions by the total number of staying nights\n",
       "adults                                                                                                                                                                                                                                                                                                                                                                                                                                 Number of adults\n",
       "agent_ID                                                                                                                                                                                                                                                                                                                                                                                              The ID of the travel agency that made the booking\n",
       "arrival_date_day_of_month                                                                                                                                                                                                                                                                                                                                                                                                           Day of arrival date\n",
       "arrival_date_month                                                                                                                                                                                                                                                                                                                                                                                                            The month of arrival date\n",
       "arrival_date_week_number                                                                                                                                                                                                                                                                                                                                                                                           Week number of year for arrival date\n",
       "arrival_date_year                                                                                                                                                                                                                                                                                                                                                                                                                  Year of arrival date\n",
       "assigned_room_type                                                                                                                                                                    Code for the type of room assigned to the booking. Sometimes the assigned room type differs from the reserved room type due to hotel operation reasons (e.g. overbooking) or by customer request. Code is presented instead of designation for anonymity reasons.\n",
       "babies                                                                                                                                                                                                                                                                                                                                                                                                                                 Number of babies\n",
       "booking_changes                                                                                                                                                                                                                                                                                        Number of changes/amendments made to the booking from the moment the booking was entered on the PMS until the moment of check-in or cancellation\n",
       "children                                                                                                                                                                                                                                                                                                                                                                                                                             Number of children\n",
       "company_ID                                                                                                                                                                                                                                                                                           ID of the company/entity that made the booking or responsible for paying the booking. ID is presented instead of designation for anonymity reasons\n",
       "country_origin                                                                                                                                                                                                                                                                                                                                                              Country of origin. Categories are represented in the ISO 3155–3:2013 format\n",
       "customer_type                   Type of booking, assuming one of four categories: Contract - when the booking has an allotment or other type of contract associated to it; Group – when the booking is associated to a group; Transient – when the booking is not part of a group or contract, and is not associated to other transient booking; Transient-party – when the booking is transient, but is associated to at least other transient booking\n",
       "days_in_waiting_list                                                                                                                                                                                                                                                                                                                                         Number of days the booking was in the waiting list before it was confirmed to the customer\n",
       "deposit_type                                                                                                                                        Indication on if the customer made a deposit to guarantee the booking. This variable can assume three categories: No Deposit – no deposit was made; Non Refund – a deposit was made in the value of the total stay cost; Refundable – a deposit was made with a value under the total cost of stay.\n",
       "distribution_channel                                                                                                                                                                                                                                                                                                                                  Booking distribution channel. The term “TA” means “Travel Agents” and “TO” means “Tour Operators”\n",
       "hotel_type                                                                                                                                                                                                                                                                                                                                                                                              Types of the hotel, Resort Hotel, or City Hotel\n",
       "is_canceled                                                                                                                                                                                                                                                                                                                                                                            The value indicating if the booking was cancelled (1) or not (0)\n",
       "is_repeated_guest                                                                                                                                                                                                                                                                                                                                                     The value indicating if the booking name was from a repeated guest (1) or not (0)\n",
       "lead_time                                                                                                                                                                                                                                                                                                                                        Number of days that elapsed between the entering date of the booking into the PMS and the arrival date\n",
       "market_segment                                                                                                                                                                                                                                                                                                                           Market segment designation. In categories, the term “TA” means “Travel Agents” and “TO” means “Tour Operators”\n",
       "meal_type                                                                                                                                                                                     Type of meal booked. Categories are presented in standard hospitality meal packages: Undefined/SC – no meal package; BB – Bed & Breakfast; HB – Half board (breakfast and one other meal – usually dinner); FB – Full board (breakfast, lunch and dinner)\n",
       "previous_bookings_not_canceled                                                                                                                                                                                                                                                                                                                                   Number of previous bookings not cancelled by the customer prior to the current booking\n",
       "previous_cancellations                                                                                                                                                                                                                                                                                                                                     Number of previous bookings that were cancelled by the customer prior to the current booking\n",
       "required_car_parking_spaces                                                                                                                                                                                                                                                                                                                                                                       Number of car parking spaces required by the customer\n",
       "reservation_status                                                                                                                                                                                 Reservation last status, assuming one of three categories: Canceled – booking was canceled by the customer; Check-Out – customer has checked in but already departed; No-Show – customer did not check-in and did inform the hotel of the reason why\n",
       "reservation_status_date                                                                                                                                                                                                                        Date at which the last status was set. This variable can be used in conjunction with the ReservationStatus to understand when was the booking canceled or when did the customer checked-out of the hotel\n",
       "reserved_room_type                                                                                                                                                                                                                                                                                                                                          Code of room type reserved. Code is presented instead of designation for anonymity reasons.\n",
       "stays_in_week_nights                                                                                                                                                                                                                                                                                                                                            Number of weeknights (Monday to Friday) the guest stayed or booked to stay at the hotel\n",
       "stays_in_weekend_nights                                                                                                                                                                                                                                                                                                                                   Number of weekend nights (Saturday or Sunday) the guest stayed or booked to stay at the hotel\n",
       "total_of_special_requests                                                                                                                                                                                                                                                                                                                                                 Number of special requests made by the customer (e.g. twin bed or high floor)"
      ]
     },
     "execution_count": 51,
     "metadata": {},
     "output_type": "execute_result"
    }
   ],
   "source": [
    "dictionary.rename(columns = {'Column Name':'Column_Name'}, inplace = True )\n",
    "dictionary.set_index('Column_Name',inplace=True)\n",
    "dictionary.sort_index(inplace= True)\n",
    "dictionary"
   ]
  },
  {
   "cell_type": "markdown",
   "metadata": {},
   "source": [
    "# Check Percentage of Null Values"
   ]
  },
  {
   "cell_type": "code",
   "execution_count": 52,
   "metadata": {
    "scrolled": true
   },
   "outputs": [
    {
     "data": {
      "text/plain": [
       "hotel_type                         0.000000\n",
       "is_canceled                        0.000000\n",
       "lead_time                          0.000000\n",
       "arrival_date_year                  0.000000\n",
       "arrival_date_month                 0.000000\n",
       "arrival_date_week_number           0.000000\n",
       "arrival_date_day_of_month          0.000000\n",
       "stays_in_weekend_nights            0.000000\n",
       "stays_in_week_nights               0.000000\n",
       "adults                             0.000000\n",
       "children                           0.003350\n",
       "babies                             0.000000\n",
       "meal_type                          0.000000\n",
       "country_origin                     0.408744\n",
       "market_segment                     0.000000\n",
       "distribution_channel               0.000000\n",
       "is_repeated_guest                  0.000000\n",
       "previous_cancellations             0.000000\n",
       "previous_bookings_not_canceled     0.000000\n",
       "reserved_room_type                 0.000000\n",
       "assigned_room_type                 0.000000\n",
       "booking_changes                    0.000000\n",
       "deposit_type                       0.000000\n",
       "agent                             13.686238\n",
       "company                           94.306893\n",
       "days_in_waiting_list               0.000000\n",
       "customer_type                      0.000000\n",
       "adr                                0.000000\n",
       "required_car_parking_spaces        0.000000\n",
       "total_of_special_requests          0.000000\n",
       "reservation_status                 0.000000\n",
       "reservation_status_date            0.000000\n",
       "dtype: float64"
      ]
     },
     "execution_count": 52,
     "metadata": {},
     "output_type": "execute_result"
    }
   ],
   "source": [
    "df.isnull().sum()/len(df)*100"
   ]
  },
  {
   "cell_type": "markdown",
   "metadata": {},
   "source": [
    "### There are missing values in : children, country_origin, agent and company"
   ]
  },
  {
   "cell_type": "markdown",
   "metadata": {},
   "source": [
    "# Cleaning"
   ]
  },
  {
   "cell_type": "markdown",
   "metadata": {},
   "source": [
    "#####  Children"
   ]
  },
  {
   "cell_type": "code",
   "execution_count": 54,
   "metadata": {},
   "outputs": [
    {
     "name": "stdout",
     "output_type": "stream",
     "text": [
      "The Data Type is : float64\n",
      "Amount of missing values: 4\n",
      "Percentage of missing values: 0.003350364352123293\n"
     ]
    }
   ],
   "source": [
    "## Check the Data Type\n",
    "print('The Data Type is :',df['children'].dtype)\n",
    "\n",
    "## Check the amount of missing values\n",
    "print('Amount of missing values:',df['children'].isnull().sum())\n",
    "print('Percentage of missing values:',df['children'].isnull().sum()/len(df)*100)"
   ]
  },
  {
   "cell_type": "code",
   "execution_count": 55,
   "metadata": {},
   "outputs": [],
   "source": [
    "## Fill in with the mode because data is categorical, and the amount is very small\n",
    "df['children'].fillna(mode(df['children']), inplace = True)\n",
    "\n",
    "## Change the data type to int, because there is no possible decimal in amount of children\n",
    "df['children'] = df['children'].astype(int)"
   ]
  },
  {
   "cell_type": "code",
   "execution_count": 56,
   "metadata": {},
   "outputs": [
    {
     "data": {
      "text/plain": [
       "0     110800\n",
       "1       4861\n",
       "2       3652\n",
       "3         76\n",
       "10         1\n",
       "Name: children, dtype: int64"
      ]
     },
     "execution_count": 56,
     "metadata": {},
     "output_type": "execute_result"
    }
   ],
   "source": [
    "## Quick check of amounts for possible outliers\n",
    "df['children'].value_counts()"
   ]
  },
  {
   "cell_type": "code",
   "execution_count": 57,
   "metadata": {},
   "outputs": [
    {
     "data": {
      "text/html": [
       "<div>\n",
       "<style scoped>\n",
       "    .dataframe tbody tr th:only-of-type {\n",
       "        vertical-align: middle;\n",
       "    }\n",
       "\n",
       "    .dataframe tbody tr th {\n",
       "        vertical-align: top;\n",
       "    }\n",
       "\n",
       "    .dataframe thead th {\n",
       "        text-align: right;\n",
       "    }\n",
       "</style>\n",
       "<table border=\"1\" class=\"dataframe\">\n",
       "  <thead>\n",
       "    <tr style=\"text-align: right;\">\n",
       "      <th></th>\n",
       "      <th>hotel_type</th>\n",
       "      <th>is_canceled</th>\n",
       "      <th>lead_time</th>\n",
       "      <th>arrival_date_year</th>\n",
       "      <th>arrival_date_month</th>\n",
       "      <th>arrival_date_week_number</th>\n",
       "      <th>arrival_date_day_of_month</th>\n",
       "      <th>stays_in_weekend_nights</th>\n",
       "      <th>stays_in_week_nights</th>\n",
       "      <th>adults</th>\n",
       "      <th>children</th>\n",
       "      <th>babies</th>\n",
       "      <th>meal_type</th>\n",
       "      <th>country_origin</th>\n",
       "      <th>market_segment</th>\n",
       "      <th>distribution_channel</th>\n",
       "      <th>is_repeated_guest</th>\n",
       "      <th>previous_cancellations</th>\n",
       "      <th>previous_bookings_not_canceled</th>\n",
       "      <th>reserved_room_type</th>\n",
       "      <th>assigned_room_type</th>\n",
       "      <th>booking_changes</th>\n",
       "      <th>deposit_type</th>\n",
       "      <th>agent</th>\n",
       "      <th>company</th>\n",
       "      <th>days_in_waiting_list</th>\n",
       "      <th>customer_type</th>\n",
       "      <th>adr</th>\n",
       "      <th>required_car_parking_spaces</th>\n",
       "      <th>total_of_special_requests</th>\n",
       "      <th>reservation_status</th>\n",
       "      <th>reservation_status_date</th>\n",
       "    </tr>\n",
       "  </thead>\n",
       "  <tbody>\n",
       "    <tr>\n",
       "      <th>328</th>\n",
       "      <td>Resort Hotel</td>\n",
       "      <td>1</td>\n",
       "      <td>55</td>\n",
       "      <td>2015</td>\n",
       "      <td>July</td>\n",
       "      <td>29</td>\n",
       "      <td>12</td>\n",
       "      <td>4</td>\n",
       "      <td>10</td>\n",
       "      <td>2</td>\n",
       "      <td>10</td>\n",
       "      <td>0</td>\n",
       "      <td>BB</td>\n",
       "      <td>PRT</td>\n",
       "      <td>Offline TA/TO</td>\n",
       "      <td>TA/TO</td>\n",
       "      <td>0</td>\n",
       "      <td>0</td>\n",
       "      <td>0</td>\n",
       "      <td>D</td>\n",
       "      <td>D</td>\n",
       "      <td>2</td>\n",
       "      <td>No Deposit</td>\n",
       "      <td>8.0</td>\n",
       "      <td>NaN</td>\n",
       "      <td>0</td>\n",
       "      <td>Contract</td>\n",
       "      <td>133.16</td>\n",
       "      <td>0</td>\n",
       "      <td>1</td>\n",
       "      <td>No-Show</td>\n",
       "      <td>12/7/2015</td>\n",
       "    </tr>\n",
       "  </tbody>\n",
       "</table>\n",
       "</div>"
      ],
      "text/plain": [
       "       hotel_type  is_canceled  lead_time  arrival_date_year  \\\n",
       "328  Resort Hotel            1         55               2015   \n",
       "\n",
       "    arrival_date_month  arrival_date_week_number  arrival_date_day_of_month  \\\n",
       "328               July                        29                         12   \n",
       "\n",
       "     stays_in_weekend_nights  stays_in_week_nights  adults  children  babies  \\\n",
       "328                        4                    10       2        10       0   \n",
       "\n",
       "    meal_type country_origin market_segment distribution_channel  \\\n",
       "328        BB            PRT  Offline TA/TO                TA/TO   \n",
       "\n",
       "     is_repeated_guest  previous_cancellations  \\\n",
       "328                  0                       0   \n",
       "\n",
       "     previous_bookings_not_canceled reserved_room_type assigned_room_type  \\\n",
       "328                               0                  D                  D   \n",
       "\n",
       "     booking_changes deposit_type  agent  company  days_in_waiting_list  \\\n",
       "328                2   No Deposit    8.0      NaN                     0   \n",
       "\n",
       "    customer_type     adr  required_car_parking_spaces  \\\n",
       "328      Contract  133.16                            0   \n",
       "\n",
       "     total_of_special_requests reservation_status reservation_status_date  \n",
       "328                          1            No-Show               12/7/2015  "
      ]
     },
     "execution_count": 57,
     "metadata": {},
     "output_type": "execute_result"
    }
   ],
   "source": [
    "## Quick analyze to determine the option for taking actions\n",
    "df[df['children'] == 10]\n",
    "## The possibility to have 10 children is acceptable. Booking a resort for 10 children for 14 days.\n",
    "##therefore value is not count as an outlier and there is no need to take any further actions"
   ]
  },
  {
   "cell_type": "markdown",
   "metadata": {},
   "source": [
    "##### Country Origin"
   ]
  },
  {
   "cell_type": "code",
   "execution_count": 59,
   "metadata": {},
   "outputs": [
    {
     "name": "stdout",
     "output_type": "stream",
     "text": [
      "The Data Type is : object\n",
      "Amount of missing values: 488\n",
      "Percentage of missing values: 0.40874445095904177\n"
     ]
    }
   ],
   "source": [
    "## Check the Data Type\n",
    "print('The Data Type is :',df['country_origin'].dtype)\n",
    "\n",
    "## Check the amount of missing values\n",
    "print('Amount of missing values:',df['country_origin'].isnull().sum())\n",
    "print('Percentage of missing values:',df['country_origin'].isnull().sum()/len(df)*100)\n",
    "\n"
   ]
  },
  {
   "cell_type": "code",
   "execution_count": 69,
   "metadata": {},
   "outputs": [],
   "source": [
    "## Fill in with the mode because data is categorical, and the amount is very small\n",
    "df['country_origin'].fillna(mode(df['country_origin']), inplace = True)\n",
    "\n",
    "## No need to check outliers"
   ]
  },
  {
   "cell_type": "markdown",
   "metadata": {},
   "source": [
    "#####  Agent"
   ]
  },
  {
   "cell_type": "code",
   "execution_count": 72,
   "metadata": {},
   "outputs": [
    {
     "name": "stdout",
     "output_type": "stream",
     "text": [
      "The Data Type is : float64\n",
      "Amount of missing values: 16340\n",
      "Percentage of missing values: 13.686238378423655\n"
     ]
    }
   ],
   "source": [
    "## Check the Data Type\n",
    "print('The Data Type is :',df['agent'].dtype)\n",
    "\n",
    "## Check the amount of missing values\n",
    "print('Amount of missing values:',df['agent'].isnull().sum())\n",
    "print('Percentage of missing values:',df['agent'].isnull().sum()/len(df)*100)"
   ]
  },
  {
   "cell_type": "code",
   "execution_count": 80,
   "metadata": {},
   "outputs": [
    {
     "name": "stdout",
     "output_type": "stream",
     "text": [
      "Total Agent:  333\n"
     ]
    }
   ],
   "source": [
    "## Check for the total of agent listed\n",
    "print('Total Agent: ',df['agent'].nunique())\n",
    "\n",
    "## Since this column is a representation of an ID, and the amount of total agent is big:\n",
    "## agent NaN values should be ignored for now"
   ]
  },
  {
   "cell_type": "markdown",
   "metadata": {},
   "source": [
    "##### company"
   ]
  },
  {
   "cell_type": "code",
   "execution_count": 81,
   "metadata": {},
   "outputs": [
    {
     "name": "stdout",
     "output_type": "stream",
     "text": [
      "The Data Type is : float64\n",
      "Amount of missing values: 112593\n",
      "Percentage of missing values: 94.30689337465449\n"
     ]
    }
   ],
   "source": [
    "## Check the Data Type\n",
    "print('The Data Type is :',df['company'].dtype)\n",
    "\n",
    "## Check the amount of missing values\n",
    "print('Amount of missing values:',df['company'].isnull().sum())\n",
    "print('Percentage of missing values:',df['company'].isnull().sum()/len(df)*100)"
   ]
  },
  {
   "cell_type": "code",
   "execution_count": 85,
   "metadata": {},
   "outputs": [],
   "source": [
    "## the column more likely to be dropped due its null values is more than 90%\n",
    "df.drop(columns = 'company', inplace = True)"
   ]
  },
  {
   "cell_type": "markdown",
   "metadata": {},
   "source": [
    "# Where do the guests come from?"
   ]
  },
  {
   "cell_type": "code",
   "execution_count": 430,
   "metadata": {},
   "outputs": [
    {
     "name": "stdout",
     "output_type": "stream",
     "text": [
      "The total number of guest country origin (successfull booking): 165\n",
      "The total number of guest country origin (unsuccessfull): 177\n"
     ]
    }
   ],
   "source": [
    "## Create a dataset where booking is NOT CANCELED\n",
    "booking_success = (df['is_canceled'] == 0)\n",
    "df_booking = df.loc[booking_success]\n",
    "\n",
    "## Checks if the unsuccessfull booking has more country origin\n",
    "print('The total number of guest country origin (successfull booking):',df_booking['country_origin'].nunique())\n",
    "print('The total number of guest country origin (unsuccessfull):',df['country_origin'].nunique())"
   ]
  },
  {
   "cell_type": "markdown",
   "metadata": {},
   "source": [
    "# How much do guests pay for a room per night?"
   ]
  },
  {
   "cell_type": "code",
   "execution_count": 194,
   "metadata": {},
   "outputs": [],
   "source": [
    "## Create a new data frame for confirmed payment & booking\n",
    "## the canceled booking is NOT COUNTED \n",
    "## Check for a free payment / minus payment because they DO NOT PAY\n",
    "payment = (df_booking['adr'] > 0)\n",
    "df_payment = df_booking.loc[payment]"
   ]
  },
  {
   "cell_type": "code",
   "execution_count": 388,
   "metadata": {},
   "outputs": [
    {
     "name": "stdout",
     "output_type": "stream",
     "text": [
      "Skewness of adr is : 1.1839896701156187\n"
     ]
    },
    {
     "data": {
      "image/png": "[encoded data removed]",
      "text/plain": [
       "<Figure size 432x288 with 1 Axes>"
      ]
     },
     "metadata": {
      "needs_background": "light"
     },
     "output_type": "display_data"
    }
   ],
   "source": [
    "## checking the distribution & Skewness of adr\n",
    "plt.hist(df_payment['adr'])\n",
    "print('Skewness of adr is :',df_payment['adr'].skew())"
   ]
  },
  {
   "cell_type": "code",
   "execution_count": 384,
   "metadata": {},
   "outputs": [],
   "source": [
    "# Since adr column has already divide the transaction by the total number of staying nights, we can conclude that\n",
    "### 1. the mean of adr represent the average payment of all customer payment\n",
    "### 2. Because of the non normal distribution, the mean is NOT VALID to represent the average payment of all customer payment\n",
    "### 3. Outliers have to be treated by a certain actions"
   ]
  },
  {
   "cell_type": "code",
   "execution_count": 385,
   "metadata": {},
   "outputs": [
    {
     "name": "stdout",
     "output_type": "stream",
     "text": [
      "Minimum Value Point is:  -14.0\n",
      "Maximum Value Point is:  210.0\n",
      "Amount of data above the maximum point:  2385\n",
      "Percentage of data above the maximum point:  3.248477914436317\n"
     ]
    }
   ],
   "source": [
    "## Check for outliers\n",
    "def OutlierCheck(Column):\n",
    "    Q1 = Column.quantile(0.25)\n",
    "    Q3 = Column.quantile(0.75)\n",
    "    IQR = Q3- Q1\n",
    "    \n",
    "    LCL = Q1 - (1.5*IQR)\n",
    "    UCL = Q3 + (1.5*IQR)\n",
    "    return (LCL, UCL)\n",
    "\n",
    "## Check the outliers \n",
    "print('Minimum Value Point is: ',OutlierCheck(df_payment['adr'])[0])\n",
    "print('Maximum Value Point is: ',OutlierCheck(df_payment['adr'])[1])\n",
    "print('Amount of data above the maximum point: ',len(df_payment[df_payment['adr'] > 210]))\n",
    "print('Percentage of data above the maximum point: ',len(df_payment[df_payment['adr'] > 210]) / len(df_payment['adr']) * 100)"
   ]
  },
  {
   "cell_type": "code",
   "execution_count": 398,
   "metadata": {},
   "outputs": [],
   "source": [
    "## Since 2300+ data / 3% of the data point exceeds the maximum cap, the best practice is to replace them to the maximum cap\n",
    "df_payment.loc[df['adr'] > 210, 'adr'] = 210"
   ]
  },
  {
   "cell_type": "code",
   "execution_count": 401,
   "metadata": {},
   "outputs": [
    {
     "name": "stdout",
     "output_type": "stream",
     "text": [
      "Skewness of adr is : 0.6880692096343425\n"
     ]
    },
    {
     "data": {
      "image/png": "[encoded data removed]",
      "text/plain": [
       "<Figure size 432x288 with 1 Axes>"
      ]
     },
     "metadata": {
      "needs_background": "light"
     },
     "output_type": "display_data"
    }
   ],
   "source": [
    "## checking the distribution & Skewness of adr\n",
    "plt.hist(df_payment['adr'])\n",
    "print('Skewness of adr is :',df_payment['adr'].skew())"
   ]
  },
  {
   "cell_type": "code",
   "execution_count": 403,
   "metadata": {},
   "outputs": [
    {
     "data": {
      "text/plain": [
       "101.18324411936675"
      ]
     },
     "execution_count": 403,
     "metadata": {},
     "output_type": "execute_result"
    }
   ],
   "source": [
    "## Since the distribution is becoming normalized, now we can compute the mean with a more valid result\n",
    "df_payment['adr'].mean()"
   ]
  },
  {
   "cell_type": "markdown",
   "metadata": {},
   "source": [
    "# How does the price per night vary over the year?"
   ]
  },
  {
   "cell_type": "code",
   "execution_count": 406,
   "metadata": {},
   "outputs": [
    {
     "data": {
      "text/plain": [
       "arrival_date_year\n",
       "2015     91.778224\n",
       "2016     97.884097\n",
       "2017    111.074011\n",
       "Name: adr, dtype: float64"
      ]
     },
     "execution_count": 406,
     "metadata": {},
     "output_type": "execute_result"
    }
   ],
   "source": [
    "## use the successfull booking, payment value > 0, cleaned dataset\n",
    "yearly_group = df_payment.groupby('arrival_date_year')\n",
    "yearly_group['adr'].mean()"
   ]
  },
  {
   "cell_type": "markdown",
   "metadata": {},
   "source": [
    "#  Which are the busiest months?"
   ]
  },
  {
   "cell_type": "code",
   "execution_count": 231,
   "metadata": {},
   "outputs": [
    {
     "data": {
      "text/plain": [
       "arrival_date_year\n",
       "2015    September\n",
       "2016    September\n",
       "2017          May\n",
       "Name: arrival_date_month, dtype: object"
      ]
     },
     "execution_count": 231,
     "metadata": {},
     "output_type": "execute_result"
    }
   ],
   "source": [
    "# Use the successfull booking dataset and count the total of booking per month in each year\n",
    "year_group = df_booking.groupby('arrival_date_year')\n",
    "year_group['arrival_date_month'].max()"
   ]
  },
  {
   "cell_type": "code",
   "execution_count": 322,
   "metadata": {},
   "outputs": [
    {
     "data": {
      "text/plain": [
       "arrival_date_year  arrival_date_month\n",
       "2015               October               3225\n",
       "                   September             3020\n",
       "                   August                2291\n",
       "                   December              1947\n",
       "                   November              1854\n",
       "                   July                  1517\n",
       "2016               October               3689\n",
       "                   May                   3563\n",
       "                   September             3372\n",
       "                   April                 3367\n",
       "                   March                 3347\n",
       "                   August                3238\n",
       "                   June                  3196\n",
       "                   July                  3073\n",
       "                   November              2818\n",
       "                   February              2554\n",
       "                   December              2462\n",
       "                   January               1691\n",
       "2017               May                   3551\n",
       "                   July                  3329\n",
       "                   March                 3298\n",
       "                   June                  3208\n",
       "                   April                 3198\n",
       "                   August                3109\n",
       "                   February              2818\n",
       "                   January               2431\n",
       "Name: arrival_date_month, dtype: int64"
      ]
     },
     "execution_count": 322,
     "metadata": {},
     "output_type": "execute_result"
    }
   ],
   "source": [
    "## ANOTHER point of view is to calculate its mean value divided by its total amount of time the month appeared in the dataset\n",
    "## because the SUM OF MONTH IS DIFFERENT IN EACH YEAR\n",
    "year_group['arrival_date_month'].value_counts()"
   ]
  },
  {
   "cell_type": "code",
   "execution_count": 342,
   "metadata": {},
   "outputs": [],
   "source": [
    "## Total the booked made in all the dataset per month\n",
    "total_booked = df_booking['arrival_date_month'].value_counts()\n",
    "\n",
    "## Create a new data frame with a sorted index\n",
    "number3_df = pd.DataFrame(total_booked).sort_index()\n",
    "\n",
    "## Create a list containing the number times each month appeared in the data set yearly\n",
    "month_times = [2,3,2,2,2,3,2,2,2,2,2,2]\n",
    "\n",
    "## Insert it to the data frame\n",
    "number3_df['month'] = month_times\n",
    "\n",
    "## Create a column to calculate monthly average booking based on the number of times the month appeared in each year\n",
    "number3_df['monthly_average_booking'] = number3_df['arrival_date_month'] / number3_df['month']"
   ]
  },
  {
   "cell_type": "code",
   "execution_count": 346,
   "metadata": {},
   "outputs": [
    {
     "data": {
      "text/html": [
       "<div>\n",
       "<style scoped>\n",
       "    .dataframe tbody tr th:only-of-type {\n",
       "        vertical-align: middle;\n",
       "    }\n",
       "\n",
       "    .dataframe tbody tr th {\n",
       "        vertical-align: top;\n",
       "    }\n",
       "\n",
       "    .dataframe thead th {\n",
       "        text-align: right;\n",
       "    }\n",
       "</style>\n",
       "<table border=\"1\" class=\"dataframe\">\n",
       "  <thead>\n",
       "    <tr style=\"text-align: right;\">\n",
       "      <th></th>\n",
       "      <th>arrival_date_month</th>\n",
       "      <th>month</th>\n",
       "      <th>monthly_average_booking</th>\n",
       "    </tr>\n",
       "  </thead>\n",
       "  <tbody>\n",
       "    <tr>\n",
       "      <th>May</th>\n",
       "      <td>7114</td>\n",
       "      <td>2</td>\n",
       "      <td>3557.000000</td>\n",
       "    </tr>\n",
       "    <tr>\n",
       "      <th>October</th>\n",
       "      <td>6914</td>\n",
       "      <td>2</td>\n",
       "      <td>3457.000000</td>\n",
       "    </tr>\n",
       "    <tr>\n",
       "      <th>March</th>\n",
       "      <td>6645</td>\n",
       "      <td>2</td>\n",
       "      <td>3322.500000</td>\n",
       "    </tr>\n",
       "    <tr>\n",
       "      <th>April</th>\n",
       "      <td>6565</td>\n",
       "      <td>2</td>\n",
       "      <td>3282.500000</td>\n",
       "    </tr>\n",
       "    <tr>\n",
       "      <th>June</th>\n",
       "      <td>6404</td>\n",
       "      <td>2</td>\n",
       "      <td>3202.000000</td>\n",
       "    </tr>\n",
       "    <tr>\n",
       "      <th>September</th>\n",
       "      <td>6392</td>\n",
       "      <td>2</td>\n",
       "      <td>3196.000000</td>\n",
       "    </tr>\n",
       "    <tr>\n",
       "      <th>August</th>\n",
       "      <td>8638</td>\n",
       "      <td>3</td>\n",
       "      <td>2879.333333</td>\n",
       "    </tr>\n",
       "    <tr>\n",
       "      <th>February</th>\n",
       "      <td>5372</td>\n",
       "      <td>2</td>\n",
       "      <td>2686.000000</td>\n",
       "    </tr>\n",
       "    <tr>\n",
       "      <th>July</th>\n",
       "      <td>7919</td>\n",
       "      <td>3</td>\n",
       "      <td>2639.666667</td>\n",
       "    </tr>\n",
       "    <tr>\n",
       "      <th>November</th>\n",
       "      <td>4672</td>\n",
       "      <td>2</td>\n",
       "      <td>2336.000000</td>\n",
       "    </tr>\n",
       "    <tr>\n",
       "      <th>December</th>\n",
       "      <td>4409</td>\n",
       "      <td>2</td>\n",
       "      <td>2204.500000</td>\n",
       "    </tr>\n",
       "    <tr>\n",
       "      <th>January</th>\n",
       "      <td>4122</td>\n",
       "      <td>2</td>\n",
       "      <td>2061.000000</td>\n",
       "    </tr>\n",
       "  </tbody>\n",
       "</table>\n",
       "</div>"
      ],
      "text/plain": [
       "           arrival_date_month  month  monthly_average_booking\n",
       "May                      7114      2              3557.000000\n",
       "October                  6914      2              3457.000000\n",
       "March                    6645      2              3322.500000\n",
       "April                    6565      2              3282.500000\n",
       "June                     6404      2              3202.000000\n",
       "September                6392      2              3196.000000\n",
       "August                   8638      3              2879.333333\n",
       "February                 5372      2              2686.000000\n",
       "July                     7919      3              2639.666667\n",
       "November                 4672      2              2336.000000\n",
       "December                 4409      2              2204.500000\n",
       "January                  4122      2              2061.000000"
      ]
     },
     "execution_count": 346,
     "metadata": {},
     "output_type": "execute_result"
    }
   ],
   "source": [
    "number3_df.sort_values(by='monthly_average_booking', ascending = False)"
   ]
  },
  {
   "cell_type": "markdown",
   "metadata": {},
   "source": [
    "# How long do people stay at the hotels?"
   ]
  },
  {
   "cell_type": "code",
   "execution_count": 432,
   "metadata": {},
   "outputs": [],
   "source": [
    "## use successfull booking dataset only\n",
    "## create a dataset\n",
    "number4_df = pd.concat([df_booking['hotel_type'],df_booking['stays_in_week_nights'],df_booking['stays_in_weekend_nights']], axis = 'columns')\n",
    "number4_df['total'] = number4_df['stays_in_week_nights'] + number4_df['stays_in_weekend_nights']\n",
    "\n",
    "## differ for each hotel type\n",
    "resort_only = (number4_df['hotel_type'] == 'Resort Hotel')\n",
    "number4_resort = number4_df.loc[resort_only]\n",
    "\n",
    "City_only = (number4_df['hotel_type'] == 'City Hotel')\n",
    "number4_city = number4_df.loc[City_only]"
   ]
  },
  {
   "cell_type": "code",
   "execution_count": 433,
   "metadata": {},
   "outputs": [
    {
     "data": {
      "text/html": [
       "<div>\n",
       "<style scoped>\n",
       "    .dataframe tbody tr th:only-of-type {\n",
       "        vertical-align: middle;\n",
       "    }\n",
       "\n",
       "    .dataframe tbody tr th {\n",
       "        vertical-align: top;\n",
       "    }\n",
       "\n",
       "    .dataframe thead th {\n",
       "        text-align: right;\n",
       "    }\n",
       "</style>\n",
       "<table border=\"1\" class=\"dataframe\">\n",
       "  <thead>\n",
       "    <tr style=\"text-align: right;\">\n",
       "      <th></th>\n",
       "      <th>hotel_type</th>\n",
       "      <th>stays_in_week_nights</th>\n",
       "      <th>stays_in_weekend_nights</th>\n",
       "      <th>total</th>\n",
       "    </tr>\n",
       "  </thead>\n",
       "  <tbody>\n",
       "    <tr>\n",
       "      <th>0</th>\n",
       "      <td>Resort Hotel</td>\n",
       "      <td>0</td>\n",
       "      <td>0</td>\n",
       "      <td>0</td>\n",
       "    </tr>\n",
       "    <tr>\n",
       "      <th>1</th>\n",
       "      <td>Resort Hotel</td>\n",
       "      <td>0</td>\n",
       "      <td>0</td>\n",
       "      <td>0</td>\n",
       "    </tr>\n",
       "    <tr>\n",
       "      <th>2</th>\n",
       "      <td>Resort Hotel</td>\n",
       "      <td>1</td>\n",
       "      <td>0</td>\n",
       "      <td>1</td>\n",
       "    </tr>\n",
       "    <tr>\n",
       "      <th>3</th>\n",
       "      <td>Resort Hotel</td>\n",
       "      <td>1</td>\n",
       "      <td>0</td>\n",
       "      <td>1</td>\n",
       "    </tr>\n",
       "    <tr>\n",
       "      <th>4</th>\n",
       "      <td>Resort Hotel</td>\n",
       "      <td>2</td>\n",
       "      <td>0</td>\n",
       "      <td>2</td>\n",
       "    </tr>\n",
       "    <tr>\n",
       "      <th>...</th>\n",
       "      <td>...</td>\n",
       "      <td>...</td>\n",
       "      <td>...</td>\n",
       "      <td>...</td>\n",
       "    </tr>\n",
       "    <tr>\n",
       "      <th>119385</th>\n",
       "      <td>City Hotel</td>\n",
       "      <td>5</td>\n",
       "      <td>2</td>\n",
       "      <td>7</td>\n",
       "    </tr>\n",
       "    <tr>\n",
       "      <th>119386</th>\n",
       "      <td>City Hotel</td>\n",
       "      <td>5</td>\n",
       "      <td>2</td>\n",
       "      <td>7</td>\n",
       "    </tr>\n",
       "    <tr>\n",
       "      <th>119387</th>\n",
       "      <td>City Hotel</td>\n",
       "      <td>5</td>\n",
       "      <td>2</td>\n",
       "      <td>7</td>\n",
       "    </tr>\n",
       "    <tr>\n",
       "      <th>119388</th>\n",
       "      <td>City Hotel</td>\n",
       "      <td>5</td>\n",
       "      <td>2</td>\n",
       "      <td>7</td>\n",
       "    </tr>\n",
       "    <tr>\n",
       "      <th>119389</th>\n",
       "      <td>City Hotel</td>\n",
       "      <td>7</td>\n",
       "      <td>2</td>\n",
       "      <td>9</td>\n",
       "    </tr>\n",
       "  </tbody>\n",
       "</table>\n",
       "<p>75166 rows × 4 columns</p>\n",
       "</div>"
      ],
      "text/plain": [
       "          hotel_type  stays_in_week_nights  stays_in_weekend_nights  total\n",
       "0       Resort Hotel                     0                        0      0\n",
       "1       Resort Hotel                     0                        0      0\n",
       "2       Resort Hotel                     1                        0      1\n",
       "3       Resort Hotel                     1                        0      1\n",
       "4       Resort Hotel                     2                        0      2\n",
       "...              ...                   ...                      ...    ...\n",
       "119385    City Hotel                     5                        2      7\n",
       "119386    City Hotel                     5                        2      7\n",
       "119387    City Hotel                     5                        2      7\n",
       "119388    City Hotel                     5                        2      7\n",
       "119389    City Hotel                     7                        2      9\n",
       "\n",
       "[75166 rows x 4 columns]"
      ]
     },
     "execution_count": 433,
     "metadata": {},
     "output_type": "execute_result"
    }
   ],
   "source": [
    "##show the dataframe\n",
    "number4_df"
   ]
  },
  {
   "cell_type": "code",
   "execution_count": 410,
   "metadata": {},
   "outputs": [
    {
     "name": "stdout",
     "output_type": "stream",
     "text": [
      "Skewness for total is: 3.1958456698951943\n"
     ]
    },
    {
     "data": {
      "image/png": "[encoded data removed]",
      "text/plain": [
       "<Figure size 432x288 with 1 Axes>"
      ]
     },
     "metadata": {
      "needs_background": "light"
     },
     "output_type": "display_data"
    }
   ],
   "source": [
    "## Check for the distribution & skewness level of total\n",
    "plt.hist(number4_df['total'])\n",
    "print('Skewness for total is:',number4_df['total'].skew())"
   ]
  },
  {
   "cell_type": "code",
   "execution_count": 418,
   "metadata": {},
   "outputs": [],
   "source": [
    "# The data distribution conclude that\n",
    "### 1. Because of the non normal distribution, the mean is NOT VALID to represent the average time people stay hotel\n",
    "### 3. Outliers have to be treated by a certain actions"
   ]
  },
  {
   "cell_type": "code",
   "execution_count": 419,
   "metadata": {},
   "outputs": [
    {
     "name": "stdout",
     "output_type": "stream",
     "text": [
      "Minimum Value Point is:  -1.0\n",
      "Maximum Value Point is:  7.0\n",
      "Amount of data above the maximum point:  3378\n",
      "Percentage of data above the maximum point:  4.494053162334034\n"
     ]
    }
   ],
   "source": [
    "## Check for outliers USING THE OutlierCheck Function (Code on Number 2)\n",
    "print('Minimum Value Point is: ',OutlierCheck(number4_df['total'])[0])\n",
    "print('Maximum Value Point is: ',OutlierCheck(number4_df['total'])[1])\n",
    "print('Amount of data above the maximum point: ',len(number4_df[number4_df['total'] > 7]))\n",
    "print('Percentage of data above the maximum point: ',len(number4_df[number4_df['total'] > 7]) / len(number4_df['total']) * 100)"
   ]
  },
  {
   "cell_type": "code",
   "execution_count": 422,
   "metadata": {},
   "outputs": [],
   "source": [
    "## Since 3300+ data / 4,4% of the data point exceeds the maximum cap, the best practice is to replace them to the maximum cap\n",
    "number4_df.loc[number4_df['total'] > 7, 'total'] = 7"
   ]
  },
  {
   "cell_type": "code",
   "execution_count": 423,
   "metadata": {},
   "outputs": [
    {
     "name": "stdout",
     "output_type": "stream",
     "text": [
      "Skewness of adr is : 0.6742643620375397\n"
     ]
    },
    {
     "data": {
      "image/png": "[encoded data removed]",
      "text/plain": [
       "<Figure size 432x288 with 1 Axes>"
      ]
     },
     "metadata": {
      "needs_background": "light"
     },
     "output_type": "display_data"
    }
   ],
   "source": [
    "## checking the distribution & Skewness of total\n",
    "plt.hist(number4_df['total'])\n",
    "print('Skewness of adr is :',number4_df['total'].skew())"
   ]
  },
  {
   "cell_type": "code",
   "execution_count": 424,
   "metadata": {},
   "outputs": [
    {
     "name": "stdout",
     "output_type": "stream",
     "text": [
      "The average staying night for people to stay at the hotels is: 3.2058244419019237\n",
      "The average staying night for people to stay at the city hotel is: 2.9236177208618153\n",
      "The average staying night for people to stay at the resort hotel is: 4.142891699495473\n"
     ]
    }
   ],
   "source": [
    "## Since the distribution is becoming normalized, now we can compute the mean with a more valid result\n",
    "print('The average staying night for people to stay at the hotels is:', number4_df['total'].mean())\n",
    "print('The average staying night for people to stay at the city hotel is:', number4_city['total'].mean())\n",
    "print('The average staying night for people to stay at the resort hotel is:', number4_resort['total'].mean())"
   ]
  },
  {
   "cell_type": "markdown",
   "metadata": {},
   "source": [
    "# Bookings by market segment"
   ]
  },
  {
   "cell_type": "code",
   "execution_count": 368,
   "metadata": {},
   "outputs": [
    {
     "data": {
      "text/plain": [
       "Online TA        35738\n",
       "Offline TA/TO    15908\n",
       "Direct           10672\n",
       "Groups            7714\n",
       "Corporate         4303\n",
       "Complementary      646\n",
       "Aviation           185\n",
       "Name: market_segment, dtype: int64"
      ]
     },
     "execution_count": 368,
     "metadata": {},
     "output_type": "execute_result"
    }
   ],
   "source": [
    "## use successfull booking dataset\n",
    "df_booking['market_segment'].value_counts()"
   ]
  },
  {
   "cell_type": "markdown",
   "metadata": {},
   "source": [
    "# How many bookings were cancelled?"
   ]
  },
  {
   "cell_type": "code",
   "execution_count": 369,
   "metadata": {},
   "outputs": [
    {
     "name": "stdout",
     "output_type": "stream",
     "text": [
      "There are a total of: 44224 bookings canceled\n"
     ]
    }
   ],
   "source": [
    "## use full dataset\n",
    "canceled = (df['is_canceled'] == 1)\n",
    "print('There are a total of: {} bookings canceled'.format(df[canceled].shape[0]))"
   ]
  },
  {
   "cell_type": "code",
   "execution_count": 441,
   "metadata": {},
   "outputs": [
    {
     "data": {
      "text/plain": [
       "arrival_date_year  is_canceled\n",
       "2015               1               8142\n",
       "2016               1              20337\n",
       "2017               1              15745\n",
       "Name: is_canceled, dtype: int64"
      ]
     },
     "execution_count": 441,
     "metadata": {},
     "output_type": "execute_result"
    }
   ],
   "source": [
    "## use full dataset\n",
    "df.loc[canceled].groupby('arrival_date_year')['is_canceled'].value_counts()"
   ]
  },
  {
   "cell_type": "markdown",
   "metadata": {},
   "source": [
    "# Which month has the highest number of cancellations?"
   ]
  },
  {
   "cell_type": "code",
   "execution_count": 444,
   "metadata": {},
   "outputs": [],
   "source": [
    "## Total the booked made in all the dataset per month\n",
    "total_canceled = df.loc[canceled,'arrival_date_month'].value_counts()\n",
    "\n",
    "## Create a new data frame with a sorted index\n",
    "number_last = pd.DataFrame(total_canceled).sort_index()\n",
    "\n",
    "## Create a list containing the number times each month appeared in the data set yearly\n",
    "month_times = [2,3,2,2,2,3,2,2,2,2,2,2]\n",
    "\n",
    "## Insert it to the data frame\n",
    "number_last['month'] = month_times\n",
    "\n",
    "## Create a column to calculate monthly average booking based on the number of times the month appeared in each year\n",
    "number_last['monthly_average_cancelation'] = number_last['arrival_date_month'] / number_last['month']"
   ]
  },
  {
   "cell_type": "code",
   "execution_count": 449,
   "metadata": {},
   "outputs": [
    {
     "data": {
      "text/html": [
       "<div>\n",
       "<style scoped>\n",
       "    .dataframe tbody tr th:only-of-type {\n",
       "        vertical-align: middle;\n",
       "    }\n",
       "\n",
       "    .dataframe tbody tr th {\n",
       "        vertical-align: top;\n",
       "    }\n",
       "\n",
       "    .dataframe thead th {\n",
       "        text-align: right;\n",
       "    }\n",
       "</style>\n",
       "<table border=\"1\" class=\"dataframe\">\n",
       "  <thead>\n",
       "    <tr style=\"text-align: right;\">\n",
       "      <th></th>\n",
       "      <th>arrival_date_month</th>\n",
       "      <th>month</th>\n",
       "      <th>monthly_average_cancelation</th>\n",
       "    </tr>\n",
       "  </thead>\n",
       "  <tbody>\n",
       "    <tr>\n",
       "      <th>May</th>\n",
       "      <td>4677</td>\n",
       "      <td>2</td>\n",
       "      <td>2338.500000</td>\n",
       "    </tr>\n",
       "    <tr>\n",
       "      <th>June</th>\n",
       "      <td>4535</td>\n",
       "      <td>2</td>\n",
       "      <td>2267.500000</td>\n",
       "    </tr>\n",
       "    <tr>\n",
       "      <th>April</th>\n",
       "      <td>4524</td>\n",
       "      <td>2</td>\n",
       "      <td>2262.000000</td>\n",
       "    </tr>\n",
       "    <tr>\n",
       "      <th>October</th>\n",
       "      <td>4246</td>\n",
       "      <td>2</td>\n",
       "      <td>2123.000000</td>\n",
       "    </tr>\n",
       "    <tr>\n",
       "      <th>September</th>\n",
       "      <td>4116</td>\n",
       "      <td>2</td>\n",
       "      <td>2058.000000</td>\n",
       "    </tr>\n",
       "    <tr>\n",
       "      <th>August</th>\n",
       "      <td>5239</td>\n",
       "      <td>3</td>\n",
       "      <td>1746.333333</td>\n",
       "    </tr>\n",
       "    <tr>\n",
       "      <th>July</th>\n",
       "      <td>4742</td>\n",
       "      <td>3</td>\n",
       "      <td>1580.666667</td>\n",
       "    </tr>\n",
       "    <tr>\n",
       "      <th>March</th>\n",
       "      <td>3149</td>\n",
       "      <td>2</td>\n",
       "      <td>1574.500000</td>\n",
       "    </tr>\n",
       "    <tr>\n",
       "      <th>February</th>\n",
       "      <td>2696</td>\n",
       "      <td>2</td>\n",
       "      <td>1348.000000</td>\n",
       "    </tr>\n",
       "    <tr>\n",
       "      <th>December</th>\n",
       "      <td>2371</td>\n",
       "      <td>2</td>\n",
       "      <td>1185.500000</td>\n",
       "    </tr>\n",
       "    <tr>\n",
       "      <th>November</th>\n",
       "      <td>2122</td>\n",
       "      <td>2</td>\n",
       "      <td>1061.000000</td>\n",
       "    </tr>\n",
       "    <tr>\n",
       "      <th>January</th>\n",
       "      <td>1807</td>\n",
       "      <td>2</td>\n",
       "      <td>903.500000</td>\n",
       "    </tr>\n",
       "  </tbody>\n",
       "</table>\n",
       "</div>"
      ],
      "text/plain": [
       "           arrival_date_month  month  monthly_average_cancelation\n",
       "May                      4677      2                  2338.500000\n",
       "June                     4535      2                  2267.500000\n",
       "April                    4524      2                  2262.000000\n",
       "October                  4246      2                  2123.000000\n",
       "September                4116      2                  2058.000000\n",
       "August                   5239      3                  1746.333333\n",
       "July                     4742      3                  1580.666667\n",
       "March                    3149      2                  1574.500000\n",
       "February                 2696      2                  1348.000000\n",
       "December                 2371      2                  1185.500000\n",
       "November                 2122      2                  1061.000000\n",
       "January                  1807      2                   903.500000"
      ]
     },
     "execution_count": 449,
     "metadata": {},
     "output_type": "execute_result"
    }
   ],
   "source": [
    "number_last.sort_values(by='monthly_average_cancelation', ascending = False)"
   ]
  },
  {
   "cell_type": "code",
   "execution_count": null,
   "metadata": {},
   "outputs": [],
   "source": []
  }
 ],
 "metadata": {
  "kernelspec": {
   "display_name": "Python 3",
   "language": "python",
   "name": "python3"
  },
  "language_info": {
   "codemirror_mode": {
    "name": "ipython",
    "version": 3
   },
   "file_extension": ".py",
   "mimetype": "text/x-python",
   "name": "python",
   "nbconvert_exporter": "python",
   "pygments_lexer": "ipython3",
   "version": "3.7.7"
  }
 },
 "nbformat": 4,
 "nbformat_minor": 4
}
